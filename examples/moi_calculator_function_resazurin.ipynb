{
 "cells": [
  {
   "cell_type": "code",
   "execution_count": 105,
   "metadata": {},
   "outputs": [],
   "source": [
    "import pandas as pd\n",
    "import numpy as np\n",
    "from itertools import cycle\n",
    "from pandas import ExcelWriter\n",
    "from pandas import ExcelFile\n",
    "\n",
    "moi = 0.3\n",
    "cell_ct = 80000\n",
    "\n",
    "## Arrange data into two side-by-side columns. First column should correspond to rfu value, and second \n",
    "## column should correspond to virus amount. For controls, label positive controls \"p\", negative controls \"n\",\n",
    "## and blank controls \"b\"\n",
    "\n",
    "## Set \"x\" to the file path, and \"n\" to the number of rows of data you have.\n",
    "\n",
    "def input_data(x, n):\n",
    "    return pd.read_excel(x, usecols = 1, nrows = n, header = None, names=['rfu','virus'])\n",
    "\n",
    "tmp = input_data(\"190910_testing_function.xlsx\", 47)"
   ]
  },
  {
   "cell_type": "code",
   "execution_count": 109,
   "metadata": {},
   "outputs": [
    {
     "data": {
      "text/plain": [
       "0      4564.000000\n",
       "1      4318.000000\n",
       "2      5552.666667\n",
       "3      6181.000000\n",
       "4      6536.666667\n",
       "5      7361.000000\n",
       "6      7897.000000\n",
       "7      8079.000000\n",
       "8     11113.000000\n",
       "9     11172.333333\n",
       "10    12618.333333\n",
       "11    21079.333333\n",
       "12    24802.000000\n",
       "13    25547.000000\n",
       "Name: rfu, dtype: float64"
      ]
     },
     "execution_count": 109,
     "metadata": {},
     "output_type": "execute_result"
    }
   ],
   "source": [
    "## Function pushing data into df\n",
    "def data_sort(data,col, iden1, iden2):\n",
    "        data_rfu = pd.DataFrame(data.loc[(col == iden1) | (col == iden2)])\n",
    "        data_rfu = data_rfu.groupby('virus', as_index = False).mean()\n",
    "        data_ctrl = pd.DataFrame(data.loc[~((col == iden1) | (col == iden2))])\n",
    "        data_ctrl = data_ctrl.groupby('virus', as_index = False).mean()\n",
    "        return data_rfu, data_ctrl;\n",
    "\n",
    "x = data_sort(tmp,col = tmp.virus, iden1 = 'p', iden2 = 'n')\n",
    "control_data = x[0]\n",
    "rfu_data = x[1]\n",
    "\n",
    "rfu_data['rfu']"
   ]
  },
  {
   "cell_type": "code",
   "execution_count": 110,
   "metadata": {},
   "outputs": [
    {
     "data": {
      "text/plain": [
       "0      4564.000000\n",
       "1      4318.000000\n",
       "2      5552.666667\n",
       "3      6181.000000\n",
       "4      6536.666667\n",
       "5      7361.000000\n",
       "6      7897.000000\n",
       "7      8079.000000\n",
       "8     11113.000000\n",
       "9     11172.333333\n",
       "10    12618.333333\n",
       "11    21079.333333\n",
       "12    24802.000000\n",
       "13    25547.000000\n",
       "Name: rfu, dtype: float64"
      ]
     },
     "execution_count": 110,
     "metadata": {},
     "output_type": "execute_result"
    }
   ],
   "source": [
    "## Function pushing data into df\n",
    "def data_sort(data,col, iden1, iden2):\n",
    "        data_rfu = pd.DataFrame(data.loc[(col == iden1) | (col == iden2)])\n",
    "        data_rfu = data_rfu.groupby('virus', as_index = False).mean()\n",
    "        data_ctrl = pd.DataFrame(data.loc[~((col == iden1) | (col == iden2))])\n",
    "        data_ctrl = data_ctrl.groupby('virus', as_index = False).mean()\n",
    "        return data_rfu, data_ctrl;\n",
    "\n",
    "x = data_sort(tmp,col = tmp.virus, iden1 = 'p', iden2 = 'n')\n",
    "control_data = x[0]\n",
    "rfu_data = x[1]\n",
    "\n",
    "rfu_data['rfu']"
   ]
  },
  {
   "cell_type": "code",
   "execution_count": 98,
   "metadata": {},
   "outputs": [
    {
     "name": "stderr",
     "output_type": "stream",
     "text": [
      "/cellar/users/jjl047/anaconda3/lib/python3.6/site-packages/pandas/core/indexes/base.py:3772: RuntimeWarning: '<' not supported between instances of 'str' and 'int', sort order is undefined for incomparable objects\n",
      "  return this.join(other, how=how, return_indexers=return_indexers)\n",
      "/cellar/users/jjl047/anaconda3/lib/python3.6/site-packages/pandas/core/generic.py:7394: RuntimeWarning: '<' not supported between instances of 'int' and 'str', sort order is undefined for incomparable objects\n",
      "  other.columns, how=join, level=level, return_indexers=True)\n"
     ]
    }
   ],
   "source": [
    "def normalize_ctrl(data, pos,neg):\n",
    "    norm_data = (data - neg)/(pos - neg)\n",
    "    return norm_data\n",
    "\n",
    "tmp2 = normalize_ctrl(rfu_data['rfu'], control_data.loc[control_data['virus'] == \"p\"],control_data.loc[control_data['virus'] == 'n'])"
   ]
  },
  {
   "cell_type": "code",
   "execution_count": 99,
   "metadata": {},
   "outputs": [
    {
     "data": {
      "text/html": [
       "<div>\n",
       "<style scoped>\n",
       "    .dataframe tbody tr th:only-of-type {\n",
       "        vertical-align: middle;\n",
       "    }\n",
       "\n",
       "    .dataframe tbody tr th {\n",
       "        vertical-align: top;\n",
       "    }\n",
       "\n",
       "    .dataframe thead th {\n",
       "        text-align: right;\n",
       "    }\n",
       "</style>\n",
       "<table border=\"1\" class=\"dataframe\">\n",
       "  <thead>\n",
       "    <tr style=\"text-align: right;\">\n",
       "      <th></th>\n",
       "      <th>virus</th>\n",
       "      <th>rfu</th>\n",
       "      <th>0</th>\n",
       "      <th>1</th>\n",
       "      <th>2</th>\n",
       "      <th>3</th>\n",
       "      <th>4</th>\n",
       "      <th>5</th>\n",
       "      <th>6</th>\n",
       "      <th>7</th>\n",
       "      <th>8</th>\n",
       "      <th>9</th>\n",
       "      <th>10</th>\n",
       "      <th>11</th>\n",
       "      <th>12</th>\n",
       "      <th>13</th>\n",
       "    </tr>\n",
       "  </thead>\n",
       "  <tbody>\n",
       "    <tr>\n",
       "      <th>0</th>\n",
       "      <td>NaN</td>\n",
       "      <td>NaN</td>\n",
       "      <td>NaN</td>\n",
       "      <td>NaN</td>\n",
       "      <td>NaN</td>\n",
       "      <td>NaN</td>\n",
       "      <td>NaN</td>\n",
       "      <td>NaN</td>\n",
       "      <td>NaN</td>\n",
       "      <td>NaN</td>\n",
       "      <td>NaN</td>\n",
       "      <td>NaN</td>\n",
       "      <td>NaN</td>\n",
       "      <td>NaN</td>\n",
       "      <td>NaN</td>\n",
       "      <td>NaN</td>\n",
       "    </tr>\n",
       "    <tr>\n",
       "      <th>1</th>\n",
       "      <td>NaN</td>\n",
       "      <td>NaN</td>\n",
       "      <td>NaN</td>\n",
       "      <td>NaN</td>\n",
       "      <td>NaN</td>\n",
       "      <td>NaN</td>\n",
       "      <td>NaN</td>\n",
       "      <td>NaN</td>\n",
       "      <td>NaN</td>\n",
       "      <td>NaN</td>\n",
       "      <td>NaN</td>\n",
       "      <td>NaN</td>\n",
       "      <td>NaN</td>\n",
       "      <td>NaN</td>\n",
       "      <td>NaN</td>\n",
       "      <td>NaN</td>\n",
       "    </tr>\n",
       "  </tbody>\n",
       "</table>\n",
       "</div>"
      ],
      "text/plain": [
       "  virus  rfu   0   1   2   3   4   5   6   7   8   9  10  11  12  13\n",
       "0   NaN  NaN NaN NaN NaN NaN NaN NaN NaN NaN NaN NaN NaN NaN NaN NaN\n",
       "1   NaN  NaN NaN NaN NaN NaN NaN NaN NaN NaN NaN NaN NaN NaN NaN NaN"
      ]
     },
     "execution_count": 99,
     "metadata": {},
     "output_type": "execute_result"
    }
   ],
   "source": [
    "tmp2"
   ]
  },
  {
   "cell_type": "code",
   "execution_count": null,
   "metadata": {},
   "outputs": [],
   "source": []
  },
  {
   "cell_type": "code",
   "execution_count": 115,
   "metadata": {},
   "outputs": [],
   "source": [
    "## Normalizing everything according to the positive control\n",
    "rfu1['rfu'] = rfu1['rfu'].apply(lambda x: (x - negative_ctrl['rfu'])/(positive_ctrl['rfu'] - negative_ctrl['rfu']))\n",
    "\n"
   ]
  },
  {
   "cell_type": "code",
   "execution_count": 116,
   "metadata": {},
   "outputs": [
    {
     "name": "stdout",
     "output_type": "stream",
     "text": [
      "    virus       rfu\n",
      "0   0.001  0.022321\n",
      "1   0.010  0.014095\n",
      "2   0.030  0.055382\n",
      "3   0.050  0.076394\n",
      "4   0.060  0.088288\n",
      "5   0.070  0.115853\n",
      "6   0.080  0.133777\n",
      "7   0.100  0.139863\n",
      "8   0.120  0.241321\n",
      "9   0.150  0.243305\n",
      "10  0.200  0.291659\n",
      "11  0.500  0.574597\n",
      "12  0.700  0.699083\n",
      "13  1.000  0.723996\n"
     ]
    }
   ],
   "source": [
    "import math\n",
    "def sigfunc(x, c):\n",
    "    return (1)/(1+ 10**(np.log10(c)-x))\n",
    "\n",
    "print(rfu1)\n",
    "x0 = rfu1['virus']\n",
    "y0 = rfu1['rfu']"
   ]
  },
  {
   "cell_type": "code",
   "execution_count": 57,
   "metadata": {},
   "outputs": [
    {
     "ename": "NameError",
     "evalue": "name 'sigfunc' is not defined",
     "output_type": "error",
     "traceback": [
      "\u001b[0;31m---------------------------------------------------------------------------\u001b[0m",
      "\u001b[0;31mNameError\u001b[0m                                 Traceback (most recent call last)",
      "\u001b[0;32m<ipython-input-57-0c8e4de21486>\u001b[0m in \u001b[0;36m<module>\u001b[0;34m()\u001b[0m\n\u001b[1;32m      1\u001b[0m \u001b[0;32mimport\u001b[0m \u001b[0mnumpy\u001b[0m \u001b[0;32mas\u001b[0m \u001b[0mnp\u001b[0m\u001b[0;34m\u001b[0m\u001b[0m\n\u001b[1;32m      2\u001b[0m \u001b[0;32mfrom\u001b[0m \u001b[0mscipy\u001b[0m \u001b[0;32mimport\u001b[0m \u001b[0moptimize\u001b[0m\u001b[0;34m\u001b[0m\u001b[0m\n\u001b[0;32m----> 3\u001b[0;31m \u001b[0mpopt\u001b[0m\u001b[0;34m,\u001b[0m \u001b[0mpcov\u001b[0m \u001b[0;34m=\u001b[0m \u001b[0moptimize\u001b[0m\u001b[0;34m.\u001b[0m\u001b[0mcurve_fit\u001b[0m\u001b[0;34m(\u001b[0m\u001b[0msigfunc\u001b[0m\u001b[0;34m,\u001b[0m \u001b[0mxdata\u001b[0m \u001b[0;34m=\u001b[0m \u001b[0mx0\u001b[0m\u001b[0;34m,\u001b[0m\u001b[0mydata\u001b[0m \u001b[0;34m=\u001b[0m \u001b[0my0\u001b[0m\u001b[0;34m)\u001b[0m\u001b[0;34m\u001b[0m\u001b[0m\n\u001b[0m\u001b[1;32m      4\u001b[0m \u001b[0;34m\u001b[0m\u001b[0m\n\u001b[1;32m      5\u001b[0m \u001b[0;32mimport\u001b[0m \u001b[0mmatplotlib\u001b[0m\u001b[0;34m.\u001b[0m\u001b[0mpyplot\u001b[0m \u001b[0;32mas\u001b[0m \u001b[0mplt\u001b[0m\u001b[0;34m\u001b[0m\u001b[0m\n",
      "\u001b[0;31mNameError\u001b[0m: name 'sigfunc' is not defined"
     ]
    }
   ],
   "source": [
    "import numpy as np\n",
    "from scipy import optimize\n",
    "popt, pcov = optimize.curve_fit(sigfunc, xdata = x0,ydata = y0)\n",
    "\n",
    "import matplotlib.pyplot as plt\n",
    "x1 = np.linspace(0, 20, num = 400000)\n",
    "plt.plot(x1, sigfunc(x1, *popt))\n",
    "plt.plot(x0, y0, 'ro')\n",
    "plt.xlabel('log virus volume')\n",
    "plt.ylabel('Response')"
   ]
  },
  {
   "cell_type": "code",
   "execution_count": 120,
   "metadata": {},
   "outputs": [
    {
     "name": "stdout",
     "output_type": "stream",
     "text": [
      "You need to transduce [0.3274434] uL of your virus to every 80000 cells to maintain an MOI of 0.3\n"
     ]
    }
   ],
   "source": [
    "virus_transd = (np.log10(popt) - np.log10(1/moi - 1))\n",
    "\n",
    "\n",
    "print(\"You need to transduce \" + str(virus_transd) +\" uL of your virus to every \" + str(cell_ct) + \" cells to maintain an MOI of \" + str(moi))"
   ]
  },
  {
   "cell_type": "code",
   "execution_count": 108,
   "metadata": {},
   "outputs": [
    {
     "data": {
      "text/plain": [
       "list"
      ]
     },
     "execution_count": 108,
     "metadata": {},
     "output_type": "execute_result"
    }
   ],
   "source": [
    "label0 = ['rfu', 'virus']\n",
    "rfu_data[label0[0]]\n",
    "\n",
    "type(label0)"
   ]
  },
  {
   "cell_type": "code",
   "execution_count": null,
   "metadata": {},
   "outputs": [],
   "source": []
  }
 ],
 "metadata": {
  "kernelspec": {
   "display_name": "Python 3",
   "language": "python",
   "name": "python3"
  },
  "language_info": {
   "codemirror_mode": {
    "name": "ipython",
    "version": 3
   },
   "file_extension": ".py",
   "mimetype": "text/x-python",
   "name": "python",
   "nbconvert_exporter": "python",
   "pygments_lexer": "ipython3",
   "version": "3.6.6"
  }
 },
 "nbformat": 4,
 "nbformat_minor": 2
}
